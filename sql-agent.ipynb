{
 "cells": [
  {
   "cell_type": "code",
   "execution_count": 1,
   "id": "3299c70c",
   "metadata": {},
   "outputs": [],
   "source": [
    "import getpass\n",
    "import os"
   ]
  },
  {
   "cell_type": "markdown",
   "id": "9d4d5aff",
   "metadata": {},
   "source": [
    "Enter the OPENAI API KEY"
   ]
  },
  {
   "cell_type": "code",
   "execution_count": 2,
   "id": "7227014d",
   "metadata": {},
   "outputs": [],
   "source": [
    "os.environ[\"OPENAI_API_KEY\"] = getpass.getpass()"
   ]
  },
  {
   "cell_type": "markdown",
   "id": "8737aee4",
   "metadata": {},
   "source": [
    "Check that the SQLite database exists"
   ]
  },
  {
   "cell_type": "code",
   "execution_count": 3,
   "id": "5b0fd235",
   "metadata": {},
   "outputs": [
    {
     "name": "stdout",
     "output_type": "stream",
     "text": [
      "sqlite\n",
      "['pokemon']\n"
     ]
    },
    {
     "data": {
      "text/plain": [
       "'[(0, \"[\\'Overgrow\\', \\'Chlorophyll\\']\", 1.0, 1.0, 1.0, 0.5, 0.5, 0.5, 2.0, 2.0, 1.0, 0.25, 1.0, 2.0, 1.0, 1.0, 2.0, 1.0, 1.0, 0.5, 49, 5120, 70, 318, \\'45\\', \\'Seed Pokémon\\', 49, 1059860, 0.7, 45, \\'Fushigidaneフシギダネ\\', \\'Bulbasaur\\', 88.1, 1, 65, 65, 45, \\'grass\\', \\'poison\\', 6.9, 1, 0), (1, \"[\\'Overgrow\\', \\'Chlorophyll\\']\", 1.0, 1.0, 1.0, 0.5, 0.5, 0.5, 2.0, 2.0, 1.0, 0.25, 1.0, 2.0, 1.0, 1.0, 2.0, 1.0, 1.0, 0.5, 62, 5120, 70, 405, \\'45\\', \\'Seed Pokémon\\', 63, 1059860, 1.0, 60, \\'Fushigisouフシギソウ\\', \\'Ivysaur\\', 88.1, 2, 80, 80, 60, \\'grass\\', \\'poison\\', 13.0, 1, 0), (2, \"[\\'Overgrow\\', \\'Chlorophyll\\']\", 1.0, 1.0, 1.0, 0.5, 0.5, 0.5, 2.0, 2.0, 1.0, 0.25, 1.0, 2.0, 1.0, 1.0, 2.0, 1.0, 1.0, 0.5, 100, 5120, 70, 625, \\'45\\', \\'Seed Pokémon\\', 123, 1059860, 2.0, 80, \\'Fushigibanaフシギバナ\\', \\'Venusaur\\', 88.1, 3, 122, 120, 80, \\'grass\\', \\'poison\\', 100.0, 1, 0), (3, \"[\\'Blaze\\', \\'Solar Power\\']\", 0.5, 1.0, 1.0, 1.0, 0.5, 1.0, 0.5, 1.0, 1.0, 0.5, 2.0, 0.5, 1.0, 1.0, 1.0, 2.0, 0.5, 2.0, 52, 5120, 70, 309, \\'45\\', \\'Lizard Pokémon\\', 43, 1059860, 0.6, 39, \\'Hitokageヒトカゲ\\', \\'Charmander\\', 88.1, 4, 60, 50, 65, \\'fire\\', None, 8.5, 1, 0), (4, \"[\\'Blaze\\', \\'Solar Power\\']\", 0.5, 1.0, 1.0, 1.0, 0.5, 1.0, 0.5, 1.0, 1.0, 0.5, 2.0, 0.5, 1.0, 1.0, 1.0, 2.0, 0.5, 2.0, 64, 5120, 70, 405, \\'45\\', \\'Flame Pokémon\\', 58, 1059860, 1.1, 58, \\'Lizardoリザード\\', \\'Charmeleon\\', 88.1, 5, 80, 65, 80, \\'fire\\', None, 19.0, 1, 0), (5, \"[\\'Blaze\\', \\'Solar Power\\']\", 0.25, 1.0, 1.0, 2.0, 0.5, 0.5, 0.5, 1.0, 1.0, 0.25, 0.0, 1.0, 1.0, 1.0, 1.0, 4.0, 0.5, 2.0, 104, 5120, 70, 634, \\'45\\', \\'Flame Pokémon\\', 78, 1059860, 1.7, 78, \\'Lizardonリザードン\\', \\'Charizard\\', 88.1, 6, 159, 115, 100, \\'fire\\', \\'flying\\', 90.5, 1, 0), (6, \"[\\'Torrent\\', \\'Rain Dish\\']\", 1.0, 1.0, 1.0, 2.0, 1.0, 1.0, 0.5, 1.0, 1.0, 2.0, 1.0, 0.5, 1.0, 1.0, 1.0, 1.0, 0.5, 0.5, 48, 5120, 70, 314, \\'45\\', \\'Tiny Turtle Pokémon\\', 65, 1059860, 0.5, 44, \\'Zenigameゼニガメ\\', \\'Squirtle\\', 88.1, 7, 50, 64, 43, \\'water\\', None, 9.0, 1, 0), (7, \"[\\'Torrent\\', \\'Rain Dish\\']\", 1.0, 1.0, 1.0, 2.0, 1.0, 1.0, 0.5, 1.0, 1.0, 2.0, 1.0, 0.5, 1.0, 1.0, 1.0, 1.0, 0.5, 0.5, 63, 5120, 70, 405, \\'45\\', \\'Turtle Pokémon\\', 80, 1059860, 1.0, 59, \\'Kameilカメール\\', \\'Wartortle\\', 88.1, 8, 65, 80, 58, \\'water\\', None, 22.5, 1, 0), (8, \"[\\'Torrent\\', \\'Rain Dish\\']\", 1.0, 1.0, 1.0, 2.0, 1.0, 1.0, 0.5, 1.0, 1.0, 2.0, 1.0, 0.5, 1.0, 1.0, 1.0, 1.0, 0.5, 0.5, 103, 5120, 70, 630, \\'45\\', \\'Shellfish Pokémon\\', 120, 1059860, 1.6, 79, \\'Kamexカメックス\\', \\'Blastoise\\', 88.1, 9, 135, 115, 78, \\'water\\', None, 85.5, 1, 0), (9, \"[\\'Shield Dust\\', \\'Run Away\\']\", 1.0, 1.0, 1.0, 1.0, 1.0, 0.5, 2.0, 2.0, 1.0, 0.5, 0.5, 1.0, 1.0, 1.0, 1.0, 2.0, 1.0, 1.0, 30, 3840, 70, 195, \\'255\\', \\'Worm Pokémon\\', 35, 1000000, 0.3, 45, \\'Caterpieキャタピー\\', \\'Caterpie\\', 50.0, 10, 20, 20, 45, \\'bug\\', None, 2.9, 1, 0)]'"
      ]
     },
     "execution_count": 3,
     "metadata": {},
     "output_type": "execute_result"
    }
   ],
   "source": [
    "from langchain_community.utilities import SQLDatabase\n",
    "\n",
    "# db = SQLDatabase.from_uri(\"sqlite:///Chinook.db\")\n",
    "# print(db.dialect)\n",
    "# print(db.get_usable_table_names())\n",
    "# db.run(\"SELECT * FROM Artist LIMIT 10;\")\n",
    "\n",
    "db = SQLDatabase.from_uri(\"sqlite:///pokemon.db\")\n",
    "print(db.dialect)\n",
    "print(db.get_usable_table_names())\n",
    "db.run(\"SELECT * FROM pokemon LIMIT 10;\")"
   ]
  },
  {
   "cell_type": "markdown",
   "id": "e57fb710",
   "metadata": {},
   "source": [
    "Using ChatGPT to translate English to SQL"
   ]
  },
  {
   "cell_type": "code",
   "execution_count": 4,
   "id": "e460c38b",
   "metadata": {},
   "outputs": [],
   "source": [
    "from langchain.chains import create_sql_query_chain\n",
    "from langchain_openai import ChatOpenAI"
   ]
  },
  {
   "cell_type": "code",
   "execution_count": 5,
   "id": "068e1adc",
   "metadata": {},
   "outputs": [],
   "source": [
    "llm = ChatOpenAI(model=\"gpt-3.5-turbo\", temperature=0)"
   ]
  },
  {
   "cell_type": "code",
   "execution_count": 6,
   "id": "504a5b13",
   "metadata": {},
   "outputs": [],
   "source": [
    "chain = create_sql_query_chain(llm, db)"
   ]
  },
  {
   "cell_type": "code",
   "execution_count": 7,
   "id": "fb06d55b",
   "metadata": {},
   "outputs": [],
   "source": [
    "response = chain.invoke({\"question\": \"How many pokemon are there?\"})"
   ]
  },
  {
   "cell_type": "code",
   "execution_count": 8,
   "id": "e7c3db3b",
   "metadata": {},
   "outputs": [
    {
     "data": {
      "text/plain": [
       "'SELECT COUNT(\"index\") AS total_pokemon\\nFROM pokemon;'"
      ]
     },
     "execution_count": 8,
     "metadata": {},
     "output_type": "execute_result"
    }
   ],
   "source": [
    "response"
   ]
  },
  {
   "cell_type": "code",
   "execution_count": 9,
   "id": "8baad228",
   "metadata": {},
   "outputs": [
    {
     "data": {
      "text/plain": [
       "'[(801,)]'"
      ]
     },
     "execution_count": 9,
     "metadata": {},
     "output_type": "execute_result"
    }
   ],
   "source": [
    "db.run(response)"
   ]
  },
  {
   "cell_type": "code",
   "execution_count": 10,
   "id": "5bfc2df2",
   "metadata": {},
   "outputs": [
    {
     "data": {
      "text/plain": [
       "'SELECT \"name\", \"classfication\" \\nFROM pokemon \\nWHERE \"name\" = \\'Pikachu\\'\\nLIMIT 1;'"
      ]
     },
     "execution_count": 10,
     "metadata": {},
     "output_type": "execute_result"
    }
   ],
   "source": [
    "response = chain.invoke({\"question\": \"What kind of pokemon is pikachu?\"})\n",
    "response"
   ]
  },
  {
   "cell_type": "code",
   "execution_count": 11,
   "id": "11a0147f",
   "metadata": {},
   "outputs": [
    {
     "data": {
      "text/plain": [
       "\"[('Pikachu', 'Mouse Pokémon')]\""
      ]
     },
     "execution_count": 11,
     "metadata": {},
     "output_type": "execute_result"
    }
   ],
   "source": [
    "db.run(response)"
   ]
  },
  {
   "cell_type": "code",
   "execution_count": 12,
   "id": "3b9b31fe",
   "metadata": {},
   "outputs": [
    {
     "name": "stdout",
     "output_type": "stream",
     "text": [
      "You are a SQLite expert. Given an input question, first create a syntactically correct SQLite query to run, then look at the results of the query and return the answer to the input question.\n",
      "Unless the user specifies in the question a specific number of examples to obtain, query for at most 5 results using the LIMIT clause as per SQLite. You can order the results to return the most informative data in the database.\n",
      "Never query for all columns from a table. You must query only the columns that are needed to answer the question. Wrap each column name in double quotes (\") to denote them as delimited identifiers.\n",
      "Pay attention to use only the column names you can see in the tables below. Be careful to not query for columns that do not exist. Also, pay attention to which column is in which table.\n",
      "Pay attention to use date('now') function to get the current date, if the question involves \"today\".\n",
      "\n",
      "Use the following format:\n",
      "\n",
      "Question: Question here\n",
      "SQLQuery: SQL Query to run\n",
      "SQLResult: Result of the SQLQuery\n",
      "Answer: Final answer here\n",
      "\n",
      "Only use the following tables:\n",
      "\u001b[33;1m\u001b[1;3m{table_info}\u001b[0m\n",
      "\n",
      "Question: \u001b[33;1m\u001b[1;3m{input}\u001b[0m\n"
     ]
    }
   ],
   "source": [
    "chain.get_prompts()[0].pretty_print()"
   ]
  },
  {
   "cell_type": "code",
   "execution_count": 13,
   "id": "89b3df1e",
   "metadata": {},
   "outputs": [],
   "source": [
    "from langchain_community.agent_toolkits import create_sql_agent\n",
    "\n",
    "agent_executor = create_sql_agent(llm, db=db, agent_type=\"openai-tools\", verbose=True)"
   ]
  },
  {
   "cell_type": "code",
   "execution_count": 14,
   "id": "857d3109",
   "metadata": {},
   "outputs": [
    {
     "name": "stdout",
     "output_type": "stream",
     "text": [
      "\n",
      "\n",
      "\u001b[1m> Entering new SQL Agent Executor chain...\u001b[0m\n",
      "\u001b[32;1m\u001b[1;3m\n",
      "Invoking: `sql_db_list_tables` with `{}`\n",
      "\n",
      "\n",
      "\u001b[0m\u001b[38;5;200m\u001b[1;3mpokemon\u001b[0m\u001b[32;1m\u001b[1;3m\n",
      "Invoking: `sql_db_schema` with `{'table_names': 'pokemon'}`\n",
      "\n",
      "\n",
      "\u001b[0m\u001b[33;1m\u001b[1;3m\n",
      "CREATE TABLE pokemon (\n",
      "\t\"index\" INTEGER, \n",
      "\tabilities TEXT, \n",
      "\tagainst_bug REAL, \n",
      "\tagainst_dark REAL, \n",
      "\tagainst_dragon REAL, \n",
      "\tagainst_electric REAL, \n",
      "\tagainst_fairy REAL, \n",
      "\tagainst_fight REAL, \n",
      "\tagainst_fire REAL, \n",
      "\tagainst_flying REAL, \n",
      "\tagainst_ghost REAL, \n",
      "\tagainst_grass REAL, \n",
      "\tagainst_ground REAL, \n",
      "\tagainst_ice REAL, \n",
      "\tagainst_normal REAL, \n",
      "\tagainst_poison REAL, \n",
      "\tagainst_psychic REAL, \n",
      "\tagainst_rock REAL, \n",
      "\tagainst_steel REAL, \n",
      "\tagainst_water REAL, \n",
      "\tattack INTEGER, \n",
      "\tbase_egg_steps INTEGER, \n",
      "\tbase_happiness INTEGER, \n",
      "\tbase_total INTEGER, \n",
      "\tcapture_rate TEXT, \n",
      "\tclassfication TEXT, \n",
      "\tdefense INTEGER, \n",
      "\texperience_growth INTEGER, \n",
      "\theight_m REAL, \n",
      "\thp INTEGER, \n",
      "\tjapanese_name TEXT, \n",
      "\tname TEXT, \n",
      "\tpercentage_male REAL, \n",
      "\tpokedex_number INTEGER, \n",
      "\tsp_attack INTEGER, \n",
      "\tsp_defense INTEGER, \n",
      "\tspeed INTEGER, \n",
      "\ttype1 TEXT, \n",
      "\ttype2 TEXT, \n",
      "\tweight_kg REAL, \n",
      "\tgeneration INTEGER, \n",
      "\tis_legendary INTEGER\n",
      ")\n",
      "\n",
      "/*\n",
      "3 rows from pokemon table:\n",
      "index\tabilities\tagainst_bug\tagainst_dark\tagainst_dragon\tagainst_electric\tagainst_fairy\tagainst_fight\tagainst_fire\tagainst_flying\tagainst_ghost\tagainst_grass\tagainst_ground\tagainst_ice\tagainst_normal\tagainst_poison\tagainst_psychic\tagainst_rock\tagainst_steel\tagainst_water\tattack\tbase_egg_steps\tbase_happiness\tbase_total\tcapture_rate\tclassfication\tdefense\texperience_growth\theight_m\thp\tjapanese_name\tname\tpercentage_male\tpokedex_number\tsp_attack\tsp_defense\tspeed\ttype1\ttype2\tweight_kg\tgeneration\tis_legendary\n",
      "0\t['Overgrow', 'Chlorophyll']\t1.0\t1.0\t1.0\t0.5\t0.5\t0.5\t2.0\t2.0\t1.0\t0.25\t1.0\t2.0\t1.0\t1.0\t2.0\t1.0\t1.0\t0.5\t49\t5120\t70\t318\t45\tSeed Pokémon\t49\t1059860\t0.7\t45\tFushigidaneフシギダネ\tBulbasaur\t88.1\t1\t65\t65\t45\tgrass\tpoison\t6.9\t1\t0\n",
      "1\t['Overgrow', 'Chlorophyll']\t1.0\t1.0\t1.0\t0.5\t0.5\t0.5\t2.0\t2.0\t1.0\t0.25\t1.0\t2.0\t1.0\t1.0\t2.0\t1.0\t1.0\t0.5\t62\t5120\t70\t405\t45\tSeed Pokémon\t63\t1059860\t1.0\t60\tFushigisouフシギソウ\tIvysaur\t88.1\t2\t80\t80\t60\tgrass\tpoison\t13.0\t1\t0\n",
      "2\t['Overgrow', 'Chlorophyll']\t1.0\t1.0\t1.0\t0.5\t0.5\t0.5\t2.0\t2.0\t1.0\t0.25\t1.0\t2.0\t1.0\t1.0\t2.0\t1.0\t1.0\t0.5\t100\t5120\t70\t625\t45\tSeed Pokémon\t123\t1059860\t2.0\t80\tFushigibanaフシギバナ\tVenusaur\t88.1\t3\t122\t120\t80\tgrass\tpoison\t100.0\t1\t0\n",
      "*/\u001b[0m\u001b[32;1m\u001b[1;3m\n",
      "Invoking: `sql_db_query` with `{'query': 'SELECT DISTINCT type1 FROM pokemon'}`\n",
      "\n",
      "\n",
      "\u001b[0m\u001b[36;1m\u001b[1;3m[('grass',), ('fire',), ('water',), ('bug',), ('normal',), ('poison',), ('electric',), ('ground',), ('fairy',), ('fighting',), ('psychic',), ('rock',), ('ghost',), ('ice',), ('dragon',), ('dark',), ('steel',), ('flying',)]\u001b[0m\u001b[32;1m\u001b[1;3m\n",
      "Invoking: `sql_db_query` with `{'query': 'SELECT type1, COUNT(*) AS num_weaknesses FROM pokemon WHERE against_bug > 1 OR against_dark > 1 OR against_dragon > 1 OR against_electric > 1 OR against_fairy > 1 OR against_fight > 1 OR against_fire > 1 OR against_flying > 1 OR against_ghost > 1 OR against_grass > 1 OR against_ground > 1 OR against_ice > 1 OR against_normal > 1 OR against_poison > 1 OR against_psychic > 1 OR against_rock > 1 OR against_steel > 1 OR against_water > 1 GROUP BY type1 ORDER BY num_weaknesses DESC LIMIT 1'}`\n",
      "\n",
      "\n",
      "\u001b[0m\u001b[36;1m\u001b[1;3m[('water', 114)]\u001b[0m\u001b[32;1m\u001b[1;3mThe type of Pokemon with the most weaknesses is \"water\", with a total of 114 weaknesses.\u001b[0m\n",
      "\n",
      "\u001b[1m> Finished chain.\u001b[0m\n"
     ]
    },
    {
     "data": {
      "text/plain": [
       "{'input': 'Tell me all the types of pokemon. Which one has the most weaknesses?',\n",
       " 'output': 'The type of Pokemon with the most weaknesses is \"water\", with a total of 114 weaknesses.'}"
      ]
     },
     "execution_count": 14,
     "metadata": {},
     "output_type": "execute_result"
    }
   ],
   "source": [
    "agent_executor.invoke(\n",
    "    {\n",
    "        \"input\": \"Tell me all the types of pokemon. Which one has the most weaknesses?\"\n",
    "    }\n",
    ")"
   ]
  },
  {
   "cell_type": "code",
   "execution_count": 15,
   "id": "65501f9e",
   "metadata": {},
   "outputs": [
    {
     "name": "stdout",
     "output_type": "stream",
     "text": [
      "\n",
      "\n",
      "\u001b[1m> Entering new SQL Agent Executor chain...\u001b[0m\n",
      "\u001b[32;1m\u001b[1;3m\n",
      "Invoking: `sql_db_list_tables` with `{}`\n",
      "\n",
      "\n",
      "\u001b[0m\u001b[38;5;200m\u001b[1;3mpokemon\u001b[0m\u001b[32;1m\u001b[1;3m\n",
      "Invoking: `sql_db_schema` with `{'table_names': 'pokemon'}`\n",
      "\n",
      "\n",
      "\u001b[0m\u001b[33;1m\u001b[1;3m\n",
      "CREATE TABLE pokemon (\n",
      "\t\"index\" INTEGER, \n",
      "\tabilities TEXT, \n",
      "\tagainst_bug REAL, \n",
      "\tagainst_dark REAL, \n",
      "\tagainst_dragon REAL, \n",
      "\tagainst_electric REAL, \n",
      "\tagainst_fairy REAL, \n",
      "\tagainst_fight REAL, \n",
      "\tagainst_fire REAL, \n",
      "\tagainst_flying REAL, \n",
      "\tagainst_ghost REAL, \n",
      "\tagainst_grass REAL, \n",
      "\tagainst_ground REAL, \n",
      "\tagainst_ice REAL, \n",
      "\tagainst_normal REAL, \n",
      "\tagainst_poison REAL, \n",
      "\tagainst_psychic REAL, \n",
      "\tagainst_rock REAL, \n",
      "\tagainst_steel REAL, \n",
      "\tagainst_water REAL, \n",
      "\tattack INTEGER, \n",
      "\tbase_egg_steps INTEGER, \n",
      "\tbase_happiness INTEGER, \n",
      "\tbase_total INTEGER, \n",
      "\tcapture_rate TEXT, \n",
      "\tclassfication TEXT, \n",
      "\tdefense INTEGER, \n",
      "\texperience_growth INTEGER, \n",
      "\theight_m REAL, \n",
      "\thp INTEGER, \n",
      "\tjapanese_name TEXT, \n",
      "\tname TEXT, \n",
      "\tpercentage_male REAL, \n",
      "\tpokedex_number INTEGER, \n",
      "\tsp_attack INTEGER, \n",
      "\tsp_defense INTEGER, \n",
      "\tspeed INTEGER, \n",
      "\ttype1 TEXT, \n",
      "\ttype2 TEXT, \n",
      "\tweight_kg REAL, \n",
      "\tgeneration INTEGER, \n",
      "\tis_legendary INTEGER\n",
      ")\n",
      "\n",
      "/*\n",
      "3 rows from pokemon table:\n",
      "index\tabilities\tagainst_bug\tagainst_dark\tagainst_dragon\tagainst_electric\tagainst_fairy\tagainst_fight\tagainst_fire\tagainst_flying\tagainst_ghost\tagainst_grass\tagainst_ground\tagainst_ice\tagainst_normal\tagainst_poison\tagainst_psychic\tagainst_rock\tagainst_steel\tagainst_water\tattack\tbase_egg_steps\tbase_happiness\tbase_total\tcapture_rate\tclassfication\tdefense\texperience_growth\theight_m\thp\tjapanese_name\tname\tpercentage_male\tpokedex_number\tsp_attack\tsp_defense\tspeed\ttype1\ttype2\tweight_kg\tgeneration\tis_legendary\n",
      "0\t['Overgrow', 'Chlorophyll']\t1.0\t1.0\t1.0\t0.5\t0.5\t0.5\t2.0\t2.0\t1.0\t0.25\t1.0\t2.0\t1.0\t1.0\t2.0\t1.0\t1.0\t0.5\t49\t5120\t70\t318\t45\tSeed Pokémon\t49\t1059860\t0.7\t45\tFushigidaneフシギダネ\tBulbasaur\t88.1\t1\t65\t65\t45\tgrass\tpoison\t6.9\t1\t0\n",
      "1\t['Overgrow', 'Chlorophyll']\t1.0\t1.0\t1.0\t0.5\t0.5\t0.5\t2.0\t2.0\t1.0\t0.25\t1.0\t2.0\t1.0\t1.0\t2.0\t1.0\t1.0\t0.5\t62\t5120\t70\t405\t45\tSeed Pokémon\t63\t1059860\t1.0\t60\tFushigisouフシギソウ\tIvysaur\t88.1\t2\t80\t80\t60\tgrass\tpoison\t13.0\t1\t0\n",
      "2\t['Overgrow', 'Chlorophyll']\t1.0\t1.0\t1.0\t0.5\t0.5\t0.5\t2.0\t2.0\t1.0\t0.25\t1.0\t2.0\t1.0\t1.0\t2.0\t1.0\t1.0\t0.5\t100\t5120\t70\t625\t45\tSeed Pokémon\t123\t1059860\t2.0\t80\tFushigibanaフシギバナ\tVenusaur\t88.1\t3\t122\t120\t80\tgrass\tpoison\t100.0\t1\t0\n",
      "*/\u001b[0m\u001b[32;1m\u001b[1;3m\n",
      "Invoking: `sql_db_query` with `{'query': 'SELECT DISTINCT generation FROM pokemon ORDER BY generation'}`\n",
      "\n",
      "\n",
      "\u001b[0m\u001b[36;1m\u001b[1;3m[(1,), (2,), (3,), (4,), (5,), (6,), (7,)]\u001b[0m\u001b[32;1m\u001b[1;3mThere are 7 generations of Pokemon.\u001b[0m\n",
      "\n",
      "\u001b[1m> Finished chain.\u001b[0m\n"
     ]
    },
    {
     "data": {
      "text/plain": [
       "{'input': 'How many generations of pokemon are there?',\n",
       " 'output': 'There are 7 generations of Pokemon.'}"
      ]
     },
     "execution_count": 15,
     "metadata": {},
     "output_type": "execute_result"
    }
   ],
   "source": [
    "agent_executor.invoke({\"input\": \"How many generations of pokemon are there?\"})"
   ]
  },
  {
   "cell_type": "code",
   "execution_count": 16,
   "id": "d24b93f5",
   "metadata": {},
   "outputs": [
    {
     "name": "stdout",
     "output_type": "stream",
     "text": [
      "\n",
      "\n",
      "\u001b[1m> Entering new SQL Agent Executor chain...\u001b[0m\n",
      "\u001b[32;1m\u001b[1;3m\n",
      "Invoking: `sql_db_list_tables` with `{}`\n",
      "\n",
      "\n",
      "\u001b[0m\u001b[38;5;200m\u001b[1;3mpokemon\u001b[0m\u001b[32;1m\u001b[1;3m\n",
      "Invoking: `sql_db_schema` with `{'table_names': 'pokemon'}`\n",
      "\n",
      "\n",
      "\u001b[0m\u001b[33;1m\u001b[1;3m\n",
      "CREATE TABLE pokemon (\n",
      "\t\"index\" INTEGER, \n",
      "\tabilities TEXT, \n",
      "\tagainst_bug REAL, \n",
      "\tagainst_dark REAL, \n",
      "\tagainst_dragon REAL, \n",
      "\tagainst_electric REAL, \n",
      "\tagainst_fairy REAL, \n",
      "\tagainst_fight REAL, \n",
      "\tagainst_fire REAL, \n",
      "\tagainst_flying REAL, \n",
      "\tagainst_ghost REAL, \n",
      "\tagainst_grass REAL, \n",
      "\tagainst_ground REAL, \n",
      "\tagainst_ice REAL, \n",
      "\tagainst_normal REAL, \n",
      "\tagainst_poison REAL, \n",
      "\tagainst_psychic REAL, \n",
      "\tagainst_rock REAL, \n",
      "\tagainst_steel REAL, \n",
      "\tagainst_water REAL, \n",
      "\tattack INTEGER, \n",
      "\tbase_egg_steps INTEGER, \n",
      "\tbase_happiness INTEGER, \n",
      "\tbase_total INTEGER, \n",
      "\tcapture_rate TEXT, \n",
      "\tclassfication TEXT, \n",
      "\tdefense INTEGER, \n",
      "\texperience_growth INTEGER, \n",
      "\theight_m REAL, \n",
      "\thp INTEGER, \n",
      "\tjapanese_name TEXT, \n",
      "\tname TEXT, \n",
      "\tpercentage_male REAL, \n",
      "\tpokedex_number INTEGER, \n",
      "\tsp_attack INTEGER, \n",
      "\tsp_defense INTEGER, \n",
      "\tspeed INTEGER, \n",
      "\ttype1 TEXT, \n",
      "\ttype2 TEXT, \n",
      "\tweight_kg REAL, \n",
      "\tgeneration INTEGER, \n",
      "\tis_legendary INTEGER\n",
      ")\n",
      "\n",
      "/*\n",
      "3 rows from pokemon table:\n",
      "index\tabilities\tagainst_bug\tagainst_dark\tagainst_dragon\tagainst_electric\tagainst_fairy\tagainst_fight\tagainst_fire\tagainst_flying\tagainst_ghost\tagainst_grass\tagainst_ground\tagainst_ice\tagainst_normal\tagainst_poison\tagainst_psychic\tagainst_rock\tagainst_steel\tagainst_water\tattack\tbase_egg_steps\tbase_happiness\tbase_total\tcapture_rate\tclassfication\tdefense\texperience_growth\theight_m\thp\tjapanese_name\tname\tpercentage_male\tpokedex_number\tsp_attack\tsp_defense\tspeed\ttype1\ttype2\tweight_kg\tgeneration\tis_legendary\n",
      "0\t['Overgrow', 'Chlorophyll']\t1.0\t1.0\t1.0\t0.5\t0.5\t0.5\t2.0\t2.0\t1.0\t0.25\t1.0\t2.0\t1.0\t1.0\t2.0\t1.0\t1.0\t0.5\t49\t5120\t70\t318\t45\tSeed Pokémon\t49\t1059860\t0.7\t45\tFushigidaneフシギダネ\tBulbasaur\t88.1\t1\t65\t65\t45\tgrass\tpoison\t6.9\t1\t0\n",
      "1\t['Overgrow', 'Chlorophyll']\t1.0\t1.0\t1.0\t0.5\t0.5\t0.5\t2.0\t2.0\t1.0\t0.25\t1.0\t2.0\t1.0\t1.0\t2.0\t1.0\t1.0\t0.5\t62\t5120\t70\t405\t45\tSeed Pokémon\t63\t1059860\t1.0\t60\tFushigisouフシギソウ\tIvysaur\t88.1\t2\t80\t80\t60\tgrass\tpoison\t13.0\t1\t0\n",
      "2\t['Overgrow', 'Chlorophyll']\t1.0\t1.0\t1.0\t0.5\t0.5\t0.5\t2.0\t2.0\t1.0\t0.25\t1.0\t2.0\t1.0\t1.0\t2.0\t1.0\t1.0\t0.5\t100\t5120\t70\t625\t45\tSeed Pokémon\t123\t1059860\t2.0\t80\tFushigibanaフシギバナ\tVenusaur\t88.1\t3\t122\t120\t80\tgrass\tpoison\t100.0\t1\t0\n",
      "*/\u001b[0m\u001b[32;1m\u001b[1;3m\n",
      "Invoking: `sql_db_query` with `{'query': 'SELECT COUNT(*) FROM pokemon WHERE generation = 1'}`\n",
      "\n",
      "\n",
      "\u001b[0m\u001b[36;1m\u001b[1;3m[(151,)]\u001b[0m\u001b[32;1m\u001b[1;3mThere are 151 Pokemon in the 1st generation.\u001b[0m\n",
      "\n",
      "\u001b[1m> Finished chain.\u001b[0m\n"
     ]
    },
    {
     "data": {
      "text/plain": [
       "{'input': 'How many pokemon are in the 1st generation?',\n",
       " 'output': 'There are 151 Pokemon in the 1st generation.'}"
      ]
     },
     "execution_count": 16,
     "metadata": {},
     "output_type": "execute_result"
    }
   ],
   "source": [
    "agent_executor.invoke({\"input\": \"How many pokemon are in the 1st generation?\"})"
   ]
  },
  {
   "cell_type": "code",
   "execution_count": 17,
   "id": "5bcde058",
   "metadata": {},
   "outputs": [
    {
     "name": "stdout",
     "output_type": "stream",
     "text": [
      "\n",
      "\n",
      "\u001b[1m> Entering new SQL Agent Executor chain...\u001b[0m\n",
      "\u001b[32;1m\u001b[1;3m\n",
      "Invoking: `sql_db_list_tables` with `{}`\n",
      "\n",
      "\n",
      "\u001b[0m\u001b[38;5;200m\u001b[1;3mpokemon\u001b[0m\u001b[32;1m\u001b[1;3m\n",
      "Invoking: `sql_db_schema` with `{'table_names': 'pokemon'}`\n",
      "\n",
      "\n",
      "\u001b[0m\u001b[33;1m\u001b[1;3m\n",
      "CREATE TABLE pokemon (\n",
      "\t\"index\" INTEGER, \n",
      "\tabilities TEXT, \n",
      "\tagainst_bug REAL, \n",
      "\tagainst_dark REAL, \n",
      "\tagainst_dragon REAL, \n",
      "\tagainst_electric REAL, \n",
      "\tagainst_fairy REAL, \n",
      "\tagainst_fight REAL, \n",
      "\tagainst_fire REAL, \n",
      "\tagainst_flying REAL, \n",
      "\tagainst_ghost REAL, \n",
      "\tagainst_grass REAL, \n",
      "\tagainst_ground REAL, \n",
      "\tagainst_ice REAL, \n",
      "\tagainst_normal REAL, \n",
      "\tagainst_poison REAL, \n",
      "\tagainst_psychic REAL, \n",
      "\tagainst_rock REAL, \n",
      "\tagainst_steel REAL, \n",
      "\tagainst_water REAL, \n",
      "\tattack INTEGER, \n",
      "\tbase_egg_steps INTEGER, \n",
      "\tbase_happiness INTEGER, \n",
      "\tbase_total INTEGER, \n",
      "\tcapture_rate TEXT, \n",
      "\tclassfication TEXT, \n",
      "\tdefense INTEGER, \n",
      "\texperience_growth INTEGER, \n",
      "\theight_m REAL, \n",
      "\thp INTEGER, \n",
      "\tjapanese_name TEXT, \n",
      "\tname TEXT, \n",
      "\tpercentage_male REAL, \n",
      "\tpokedex_number INTEGER, \n",
      "\tsp_attack INTEGER, \n",
      "\tsp_defense INTEGER, \n",
      "\tspeed INTEGER, \n",
      "\ttype1 TEXT, \n",
      "\ttype2 TEXT, \n",
      "\tweight_kg REAL, \n",
      "\tgeneration INTEGER, \n",
      "\tis_legendary INTEGER\n",
      ")\n",
      "\n",
      "/*\n",
      "3 rows from pokemon table:\n",
      "index\tabilities\tagainst_bug\tagainst_dark\tagainst_dragon\tagainst_electric\tagainst_fairy\tagainst_fight\tagainst_fire\tagainst_flying\tagainst_ghost\tagainst_grass\tagainst_ground\tagainst_ice\tagainst_normal\tagainst_poison\tagainst_psychic\tagainst_rock\tagainst_steel\tagainst_water\tattack\tbase_egg_steps\tbase_happiness\tbase_total\tcapture_rate\tclassfication\tdefense\texperience_growth\theight_m\thp\tjapanese_name\tname\tpercentage_male\tpokedex_number\tsp_attack\tsp_defense\tspeed\ttype1\ttype2\tweight_kg\tgeneration\tis_legendary\n",
      "0\t['Overgrow', 'Chlorophyll']\t1.0\t1.0\t1.0\t0.5\t0.5\t0.5\t2.0\t2.0\t1.0\t0.25\t1.0\t2.0\t1.0\t1.0\t2.0\t1.0\t1.0\t0.5\t49\t5120\t70\t318\t45\tSeed Pokémon\t49\t1059860\t0.7\t45\tFushigidaneフシギダネ\tBulbasaur\t88.1\t1\t65\t65\t45\tgrass\tpoison\t6.9\t1\t0\n",
      "1\t['Overgrow', 'Chlorophyll']\t1.0\t1.0\t1.0\t0.5\t0.5\t0.5\t2.0\t2.0\t1.0\t0.25\t1.0\t2.0\t1.0\t1.0\t2.0\t1.0\t1.0\t0.5\t62\t5120\t70\t405\t45\tSeed Pokémon\t63\t1059860\t1.0\t60\tFushigisouフシギソウ\tIvysaur\t88.1\t2\t80\t80\t60\tgrass\tpoison\t13.0\t1\t0\n",
      "2\t['Overgrow', 'Chlorophyll']\t1.0\t1.0\t1.0\t0.5\t0.5\t0.5\t2.0\t2.0\t1.0\t0.25\t1.0\t2.0\t1.0\t1.0\t2.0\t1.0\t1.0\t0.5\t100\t5120\t70\t625\t45\tSeed Pokémon\t123\t1059860\t2.0\t80\tFushigibanaフシギバナ\tVenusaur\t88.1\t3\t122\t120\t80\tgrass\tpoison\t100.0\t1\t0\n",
      "*/\u001b[0m\u001b[32;1m\u001b[1;3mI don't know.\u001b[0m\n",
      "\n",
      "\u001b[1m> Finished chain.\u001b[0m\n"
     ]
    },
    {
     "data": {
      "text/plain": [
       "{'input': 'Can you give a complete description of Evee from the 2nd generation game?',\n",
       " 'output': \"I don't know.\"}"
      ]
     },
     "execution_count": 17,
     "metadata": {},
     "output_type": "execute_result"
    }
   ],
   "source": [
    "agent_executor.invoke({\"input\": \"Can you give a complete description of Evee from the 2nd generation game?\"})"
   ]
  },
  {
   "cell_type": "code",
   "execution_count": 18,
   "id": "1ff6f157",
   "metadata": {},
   "outputs": [
    {
     "name": "stdout",
     "output_type": "stream",
     "text": [
      "\n",
      "\n",
      "\u001b[1m> Entering new SQL Agent Executor chain...\u001b[0m\n",
      "\u001b[32;1m\u001b[1;3m\n",
      "Invoking: `sql_db_list_tables` with `{}`\n",
      "\n",
      "\n",
      "\u001b[0m\u001b[38;5;200m\u001b[1;3mpokemon\u001b[0m\u001b[32;1m\u001b[1;3m\n",
      "Invoking: `sql_db_schema` with `{'table_names': 'pokemon'}`\n",
      "\n",
      "\n",
      "\u001b[0m\u001b[33;1m\u001b[1;3m\n",
      "CREATE TABLE pokemon (\n",
      "\t\"index\" INTEGER, \n",
      "\tabilities TEXT, \n",
      "\tagainst_bug REAL, \n",
      "\tagainst_dark REAL, \n",
      "\tagainst_dragon REAL, \n",
      "\tagainst_electric REAL, \n",
      "\tagainst_fairy REAL, \n",
      "\tagainst_fight REAL, \n",
      "\tagainst_fire REAL, \n",
      "\tagainst_flying REAL, \n",
      "\tagainst_ghost REAL, \n",
      "\tagainst_grass REAL, \n",
      "\tagainst_ground REAL, \n",
      "\tagainst_ice REAL, \n",
      "\tagainst_normal REAL, \n",
      "\tagainst_poison REAL, \n",
      "\tagainst_psychic REAL, \n",
      "\tagainst_rock REAL, \n",
      "\tagainst_steel REAL, \n",
      "\tagainst_water REAL, \n",
      "\tattack INTEGER, \n",
      "\tbase_egg_steps INTEGER, \n",
      "\tbase_happiness INTEGER, \n",
      "\tbase_total INTEGER, \n",
      "\tcapture_rate TEXT, \n",
      "\tclassfication TEXT, \n",
      "\tdefense INTEGER, \n",
      "\texperience_growth INTEGER, \n",
      "\theight_m REAL, \n",
      "\thp INTEGER, \n",
      "\tjapanese_name TEXT, \n",
      "\tname TEXT, \n",
      "\tpercentage_male REAL, \n",
      "\tpokedex_number INTEGER, \n",
      "\tsp_attack INTEGER, \n",
      "\tsp_defense INTEGER, \n",
      "\tspeed INTEGER, \n",
      "\ttype1 TEXT, \n",
      "\ttype2 TEXT, \n",
      "\tweight_kg REAL, \n",
      "\tgeneration INTEGER, \n",
      "\tis_legendary INTEGER\n",
      ")\n",
      "\n",
      "/*\n",
      "3 rows from pokemon table:\n",
      "index\tabilities\tagainst_bug\tagainst_dark\tagainst_dragon\tagainst_electric\tagainst_fairy\tagainst_fight\tagainst_fire\tagainst_flying\tagainst_ghost\tagainst_grass\tagainst_ground\tagainst_ice\tagainst_normal\tagainst_poison\tagainst_psychic\tagainst_rock\tagainst_steel\tagainst_water\tattack\tbase_egg_steps\tbase_happiness\tbase_total\tcapture_rate\tclassfication\tdefense\texperience_growth\theight_m\thp\tjapanese_name\tname\tpercentage_male\tpokedex_number\tsp_attack\tsp_defense\tspeed\ttype1\ttype2\tweight_kg\tgeneration\tis_legendary\n",
      "0\t['Overgrow', 'Chlorophyll']\t1.0\t1.0\t1.0\t0.5\t0.5\t0.5\t2.0\t2.0\t1.0\t0.25\t1.0\t2.0\t1.0\t1.0\t2.0\t1.0\t1.0\t0.5\t49\t5120\t70\t318\t45\tSeed Pokémon\t49\t1059860\t0.7\t45\tFushigidaneフシギダネ\tBulbasaur\t88.1\t1\t65\t65\t45\tgrass\tpoison\t6.9\t1\t0\n",
      "1\t['Overgrow', 'Chlorophyll']\t1.0\t1.0\t1.0\t0.5\t0.5\t0.5\t2.0\t2.0\t1.0\t0.25\t1.0\t2.0\t1.0\t1.0\t2.0\t1.0\t1.0\t0.5\t62\t5120\t70\t405\t45\tSeed Pokémon\t63\t1059860\t1.0\t60\tFushigisouフシギソウ\tIvysaur\t88.1\t2\t80\t80\t60\tgrass\tpoison\t13.0\t1\t0\n",
      "2\t['Overgrow', 'Chlorophyll']\t1.0\t1.0\t1.0\t0.5\t0.5\t0.5\t2.0\t2.0\t1.0\t0.25\t1.0\t2.0\t1.0\t1.0\t2.0\t1.0\t1.0\t0.5\t100\t5120\t70\t625\t45\tSeed Pokémon\t123\t1059860\t2.0\t80\tFushigibanaフシギバナ\tVenusaur\t88.1\t3\t122\t120\t80\tgrass\tpoison\t100.0\t1\t0\n",
      "*/\u001b[0m\u001b[32;1m\u001b[1;3m\n",
      "Invoking: `sql_db_query` with `{'query': 'SELECT DISTINCT type2 FROM pokemon WHERE generation = 1 AND (against_bug > 1 OR against_dark > 1 OR against_dragon > 1 OR against_electric > 1 OR against_fairy > 1 OR against_fight > 1 OR against_fire > 1 OR against_flying > 1 OR against_ghost > 1 OR against_grass > 1 OR against_ground > 1 OR against_ice > 1 OR against_normal > 1 OR against_poison > 1 OR against_psychic > 1 OR against_rock > 1 OR against_steel > 1 OR against_water > 1)'}`\n",
      "\n",
      "\n",
      "\u001b[0m\u001b[36;1m\u001b[1;3m[('poison',), (None,), ('flying',), ('dark',), ('electric',), ('ice',), ('ground',), ('fairy',), ('grass',), ('fighting',), ('psychic',), ('steel',), ('fire',), ('rock',), ('water',)]\u001b[0m\u001b[32;1m\u001b[1;3mEvee from the 1st generation is strong against the following types of Pokemon: Poison, Flying, Dark, Electric, Ice, Ground, Fairy, Grass, Fighting, Psychic, Steel, Fire, Rock, and Water.\u001b[0m\n",
      "\n",
      "\u001b[1m> Finished chain.\u001b[0m\n"
     ]
    },
    {
     "data": {
      "text/plain": [
       "{'input': 'What types of pokemon are Evee strong against? Look at the 1st generation only.',\n",
       " 'output': 'Evee from the 1st generation is strong against the following types of Pokemon: Poison, Flying, Dark, Electric, Ice, Ground, Fairy, Grass, Fighting, Psychic, Steel, Fire, Rock, and Water.'}"
      ]
     },
     "execution_count": 18,
     "metadata": {},
     "output_type": "execute_result"
    }
   ],
   "source": [
    "agent_executor.invoke({\"input\": \"What types of pokemon are Evee strong against? Look at the 1st generation only.\"})"
   ]
  },
  {
   "cell_type": "code",
   "execution_count": 21,
   "id": "a3fc21a2",
   "metadata": {},
   "outputs": [
    {
     "name": "stdout",
     "output_type": "stream",
     "text": [
      "\n",
      "\n",
      "\u001b[1m> Entering new SQL Agent Executor chain...\u001b[0m\n",
      "\u001b[32;1m\u001b[1;3m\n",
      "Invoking: `sql_db_list_tables` with `{}`\n",
      "\n",
      "\n",
      "\u001b[0m\u001b[38;5;200m\u001b[1;3mpokemon\u001b[0m\u001b[32;1m\u001b[1;3m\n",
      "Invoking: `sql_db_schema` with `{'table_names': 'pokemon'}`\n",
      "\n",
      "\n",
      "\u001b[0m\u001b[33;1m\u001b[1;3m\n",
      "CREATE TABLE pokemon (\n",
      "\t\"index\" INTEGER, \n",
      "\tabilities TEXT, \n",
      "\tagainst_bug REAL, \n",
      "\tagainst_dark REAL, \n",
      "\tagainst_dragon REAL, \n",
      "\tagainst_electric REAL, \n",
      "\tagainst_fairy REAL, \n",
      "\tagainst_fight REAL, \n",
      "\tagainst_fire REAL, \n",
      "\tagainst_flying REAL, \n",
      "\tagainst_ghost REAL, \n",
      "\tagainst_grass REAL, \n",
      "\tagainst_ground REAL, \n",
      "\tagainst_ice REAL, \n",
      "\tagainst_normal REAL, \n",
      "\tagainst_poison REAL, \n",
      "\tagainst_psychic REAL, \n",
      "\tagainst_rock REAL, \n",
      "\tagainst_steel REAL, \n",
      "\tagainst_water REAL, \n",
      "\tattack INTEGER, \n",
      "\tbase_egg_steps INTEGER, \n",
      "\tbase_happiness INTEGER, \n",
      "\tbase_total INTEGER, \n",
      "\tcapture_rate TEXT, \n",
      "\tclassfication TEXT, \n",
      "\tdefense INTEGER, \n",
      "\texperience_growth INTEGER, \n",
      "\theight_m REAL, \n",
      "\thp INTEGER, \n",
      "\tjapanese_name TEXT, \n",
      "\tname TEXT, \n",
      "\tpercentage_male REAL, \n",
      "\tpokedex_number INTEGER, \n",
      "\tsp_attack INTEGER, \n",
      "\tsp_defense INTEGER, \n",
      "\tspeed INTEGER, \n",
      "\ttype1 TEXT, \n",
      "\ttype2 TEXT, \n",
      "\tweight_kg REAL, \n",
      "\tgeneration INTEGER, \n",
      "\tis_legendary INTEGER\n",
      ")\n",
      "\n",
      "/*\n",
      "3 rows from pokemon table:\n",
      "index\tabilities\tagainst_bug\tagainst_dark\tagainst_dragon\tagainst_electric\tagainst_fairy\tagainst_fight\tagainst_fire\tagainst_flying\tagainst_ghost\tagainst_grass\tagainst_ground\tagainst_ice\tagainst_normal\tagainst_poison\tagainst_psychic\tagainst_rock\tagainst_steel\tagainst_water\tattack\tbase_egg_steps\tbase_happiness\tbase_total\tcapture_rate\tclassfication\tdefense\texperience_growth\theight_m\thp\tjapanese_name\tname\tpercentage_male\tpokedex_number\tsp_attack\tsp_defense\tspeed\ttype1\ttype2\tweight_kg\tgeneration\tis_legendary\n",
      "0\t['Overgrow', 'Chlorophyll']\t1.0\t1.0\t1.0\t0.5\t0.5\t0.5\t2.0\t2.0\t1.0\t0.25\t1.0\t2.0\t1.0\t1.0\t2.0\t1.0\t1.0\t0.5\t49\t5120\t70\t318\t45\tSeed Pokémon\t49\t1059860\t0.7\t45\tFushigidaneフシギダネ\tBulbasaur\t88.1\t1\t65\t65\t45\tgrass\tpoison\t6.9\t1\t0\n",
      "1\t['Overgrow', 'Chlorophyll']\t1.0\t1.0\t1.0\t0.5\t0.5\t0.5\t2.0\t2.0\t1.0\t0.25\t1.0\t2.0\t1.0\t1.0\t2.0\t1.0\t1.0\t0.5\t62\t5120\t70\t405\t45\tSeed Pokémon\t63\t1059860\t1.0\t60\tFushigisouフシギソウ\tIvysaur\t88.1\t2\t80\t80\t60\tgrass\tpoison\t13.0\t1\t0\n",
      "2\t['Overgrow', 'Chlorophyll']\t1.0\t1.0\t1.0\t0.5\t0.5\t0.5\t2.0\t2.0\t1.0\t0.25\t1.0\t2.0\t1.0\t1.0\t2.0\t1.0\t1.0\t0.5\t100\t5120\t70\t625\t45\tSeed Pokémon\t123\t1059860\t2.0\t80\tFushigibanaフシギバナ\tVenusaur\t88.1\t3\t122\t120\t80\tgrass\tpoison\t100.0\t1\t0\n",
      "*/\u001b[0m\u001b[32;1m\u001b[1;3mThe \"pokemon\" table has 41 columns. Here are some of the columns and their meanings:\n",
      "\n",
      "1. abilities: The abilities of the Pokemon.\n",
      "2. against_bug: The effectiveness of the Pokemon against Bug type.\n",
      "3. against_dark: The effectiveness of the Pokemon against Dark type.\n",
      "4. against_dragon: The effectiveness of the Pokemon against Dragon type.\n",
      "5. against_electric: The effectiveness of the Pokemon against Electric type.\n",
      "6. against_fairy: The effectiveness of the Pokemon against Fairy type.\n",
      "7. against_fight: The effectiveness of the Pokemon against Fight type.\n",
      "8. against_fire: The effectiveness of the Pokemon against Fire type.\n",
      "9. against_flying: The effectiveness of the Pokemon against Flying type.\n",
      "10. against_ghost: The effectiveness of the Pokemon against Ghost type.\n",
      "\n",
      "These are just a few of the columns in the \"pokemon\" table.\u001b[0m\n",
      "\n",
      "\u001b[1m> Finished chain.\u001b[0m\n"
     ]
    }
   ],
   "source": [
    "resp = agent_executor.invoke({\"input\": \"How many columns are in the pokemon table? To the best of your ability, please tell the column name and what it means\"})"
   ]
  },
  {
   "cell_type": "code",
   "execution_count": 24,
   "id": "2905aefd",
   "metadata": {},
   "outputs": [
    {
     "name": "stdout",
     "output_type": "stream",
     "text": [
      "The \"pokemon\" table has 41 columns. Here are some of the columns and their meanings:\n",
      "\n",
      "1. abilities: The abilities of the Pokemon.\n",
      "2. against_bug: The effectiveness of the Pokemon against Bug type.\n",
      "3. against_dark: The effectiveness of the Pokemon against Dark type.\n",
      "4. against_dragon: The effectiveness of the Pokemon against Dragon type.\n",
      "5. against_electric: The effectiveness of the Pokemon against Electric type.\n",
      "6. against_fairy: The effectiveness of the Pokemon against Fairy type.\n",
      "7. against_fight: The effectiveness of the Pokemon against Fight type.\n",
      "8. against_fire: The effectiveness of the Pokemon against Fire type.\n",
      "9. against_flying: The effectiveness of the Pokemon against Flying type.\n",
      "10. against_ghost: The effectiveness of the Pokemon against Ghost type.\n",
      "\n",
      "These are just a few of the columns in the \"pokemon\" table.\n"
     ]
    }
   ],
   "source": [
    "print(resp['output'])"
   ]
  },
  {
   "cell_type": "code",
   "execution_count": 26,
   "id": "42344420",
   "metadata": {},
   "outputs": [
    {
     "name": "stdout",
     "output_type": "stream",
     "text": [
      "\n",
      "\n",
      "\u001b[1m> Entering new SQL Agent Executor chain...\u001b[0m\n",
      "\u001b[32;1m\u001b[1;3m\n",
      "Invoking: `sql_db_list_tables` with `{}`\n",
      "\n",
      "\n",
      "\u001b[0m\u001b[38;5;200m\u001b[1;3mpokemon\u001b[0m\u001b[32;1m\u001b[1;3m\n",
      "Invoking: `sql_db_schema` with `{'table_names': 'pokemon'}`\n",
      "\n",
      "\n",
      "\u001b[0m\u001b[33;1m\u001b[1;3m\n",
      "CREATE TABLE pokemon (\n",
      "\t\"index\" INTEGER, \n",
      "\tabilities TEXT, \n",
      "\tagainst_bug REAL, \n",
      "\tagainst_dark REAL, \n",
      "\tagainst_dragon REAL, \n",
      "\tagainst_electric REAL, \n",
      "\tagainst_fairy REAL, \n",
      "\tagainst_fight REAL, \n",
      "\tagainst_fire REAL, \n",
      "\tagainst_flying REAL, \n",
      "\tagainst_ghost REAL, \n",
      "\tagainst_grass REAL, \n",
      "\tagainst_ground REAL, \n",
      "\tagainst_ice REAL, \n",
      "\tagainst_normal REAL, \n",
      "\tagainst_poison REAL, \n",
      "\tagainst_psychic REAL, \n",
      "\tagainst_rock REAL, \n",
      "\tagainst_steel REAL, \n",
      "\tagainst_water REAL, \n",
      "\tattack INTEGER, \n",
      "\tbase_egg_steps INTEGER, \n",
      "\tbase_happiness INTEGER, \n",
      "\tbase_total INTEGER, \n",
      "\tcapture_rate TEXT, \n",
      "\tclassfication TEXT, \n",
      "\tdefense INTEGER, \n",
      "\texperience_growth INTEGER, \n",
      "\theight_m REAL, \n",
      "\thp INTEGER, \n",
      "\tjapanese_name TEXT, \n",
      "\tname TEXT, \n",
      "\tpercentage_male REAL, \n",
      "\tpokedex_number INTEGER, \n",
      "\tsp_attack INTEGER, \n",
      "\tsp_defense INTEGER, \n",
      "\tspeed INTEGER, \n",
      "\ttype1 TEXT, \n",
      "\ttype2 TEXT, \n",
      "\tweight_kg REAL, \n",
      "\tgeneration INTEGER, \n",
      "\tis_legendary INTEGER\n",
      ")\n",
      "\n",
      "/*\n",
      "3 rows from pokemon table:\n",
      "index\tabilities\tagainst_bug\tagainst_dark\tagainst_dragon\tagainst_electric\tagainst_fairy\tagainst_fight\tagainst_fire\tagainst_flying\tagainst_ghost\tagainst_grass\tagainst_ground\tagainst_ice\tagainst_normal\tagainst_poison\tagainst_psychic\tagainst_rock\tagainst_steel\tagainst_water\tattack\tbase_egg_steps\tbase_happiness\tbase_total\tcapture_rate\tclassfication\tdefense\texperience_growth\theight_m\thp\tjapanese_name\tname\tpercentage_male\tpokedex_number\tsp_attack\tsp_defense\tspeed\ttype1\ttype2\tweight_kg\tgeneration\tis_legendary\n",
      "0\t['Overgrow', 'Chlorophyll']\t1.0\t1.0\t1.0\t0.5\t0.5\t0.5\t2.0\t2.0\t1.0\t0.25\t1.0\t2.0\t1.0\t1.0\t2.0\t1.0\t1.0\t0.5\t49\t5120\t70\t318\t45\tSeed Pokémon\t49\t1059860\t0.7\t45\tFushigidaneフシギダネ\tBulbasaur\t88.1\t1\t65\t65\t45\tgrass\tpoison\t6.9\t1\t0\n",
      "1\t['Overgrow', 'Chlorophyll']\t1.0\t1.0\t1.0\t0.5\t0.5\t0.5\t2.0\t2.0\t1.0\t0.25\t1.0\t2.0\t1.0\t1.0\t2.0\t1.0\t1.0\t0.5\t62\t5120\t70\t405\t45\tSeed Pokémon\t63\t1059860\t1.0\t60\tFushigisouフシギソウ\tIvysaur\t88.1\t2\t80\t80\t60\tgrass\tpoison\t13.0\t1\t0\n",
      "2\t['Overgrow', 'Chlorophyll']\t1.0\t1.0\t1.0\t0.5\t0.5\t0.5\t2.0\t2.0\t1.0\t0.25\t1.0\t2.0\t1.0\t1.0\t2.0\t1.0\t1.0\t0.5\t100\t5120\t70\t625\t45\tSeed Pokémon\t123\t1059860\t2.0\t80\tFushigibanaフシギバナ\tVenusaur\t88.1\t3\t122\t120\t80\tgrass\tpoison\t100.0\t1\t0\n",
      "*/\u001b[0m\u001b[32;1m\u001b[1;3mThe `pokemon` table in the database does not have a specific column named \"description.\" However, it does have a column named `classfication` which might contain information similar to a description. Here are some examples of the `classfication` values for the Pokemon:\n",
      "\n",
      "1. Bulbasaur - Seed Pokémon\n",
      "2. Ivysaur - Seed Pokémon\n",
      "3. Venusaur - Seed Pokémon\n",
      "\n",
      "These values provide a brief classification or description of the Pokemon.\u001b[0m\n",
      "\n",
      "\u001b[1m> Finished chain.\u001b[0m\n"
     ]
    },
    {
     "data": {
      "text/plain": [
       "{'input': 'Is there anything like a description column in the pokemon table? What are the kinds of things it says?',\n",
       " 'output': 'The `pokemon` table in the database does not have a specific column named \"description.\" However, it does have a column named `classfication` which might contain information similar to a description. Here are some examples of the `classfication` values for the Pokemon:\\n\\n1. Bulbasaur - Seed Pokémon\\n2. Ivysaur - Seed Pokémon\\n3. Venusaur - Seed Pokémon\\n\\nThese values provide a brief classification or description of the Pokemon.'}"
      ]
     },
     "execution_count": 26,
     "metadata": {},
     "output_type": "execute_result"
    }
   ],
   "source": [
    "agent_executor.invoke({\"input\": \"Is there anything like a description column in the pokemon table? What are the kinds of things it says?\"})"
   ]
  }
 ],
 "metadata": {
  "kernelspec": {
   "display_name": "Python 3 (ipykernel)",
   "language": "python",
   "name": "python3"
  },
  "language_info": {
   "codemirror_mode": {
    "name": "ipython",
    "version": 3
   },
   "file_extension": ".py",
   "mimetype": "text/x-python",
   "name": "python",
   "nbconvert_exporter": "python",
   "pygments_lexer": "ipython3",
   "version": "3.11.4"
  }
 },
 "nbformat": 4,
 "nbformat_minor": 5
}
